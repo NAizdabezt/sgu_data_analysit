{
  "cells": [
    {
      "cell_type": "markdown",
      "metadata": {
        "id": "view-in-github",
        "colab_type": "text"
      },
      "source": [
        "<a href=\"https://colab.research.google.com/github/NAizdabezt/sgu_data_analysit/blob/main/03_exercise_01.ipynb\" target=\"_parent\"><img src=\"https://colab.research.google.com/assets/colab-badge.svg\" alt=\"Open In Colab\"/></a>"
      ]
    },
    {
      "cell_type": "markdown",
      "id": "bde415d1-a89e-48fe-8a70-6c45c9352e48",
      "metadata": {
        "id": "bde415d1-a89e-48fe-8a70-6c45c9352e48"
      },
      "source": [
        "## 1. Nhập/xuất, biểu thức tính toán"
      ]
    },
    {
      "cell_type": "markdown",
      "id": "c0f09b9d-346b-4ab5-86c8-1a349996a93e",
      "metadata": {
        "id": "c0f09b9d-346b-4ab5-86c8-1a349996a93e"
      },
      "source": [
        "### Bài 1. Tính giá trị hàm số\n",
        "**Yêu cầu**: Hãy viết chương trình nhập vào số thực x và tính giá trị biểu thức:\n",
        "\n",
        "$$\n",
        "f(x) = x + \\frac{x^5}{5!} + \\frac{\\sqrt{|x|}}{x^{3/2}}\n",
        "$$\n",
        "> Moi ban nhap vao gia tri cua bien so x: **2.3** <br/>\n",
        "> Gia tri cua ham so f(**2.3**) = **3.27**."
      ]
    },
    {
      "cell_type": "code",
      "execution_count": null,
      "id": "727cf4ff-fab1-4760-bb1a-fb18037889fb",
      "metadata": {
        "id": "727cf4ff-fab1-4760-bb1a-fb18037889fb",
        "outputId": "792f099f-4bba-4a11-ea6b-4daa28da65e1"
      },
      "outputs": [
        {
          "name": "stdin",
          "output_type": "stream",
          "text": [
            "Moi ban nhap vao gia tri cua bien so x:  2.3\n"
          ]
        },
        {
          "name": "stdout",
          "output_type": "stream",
          "text": [
            "Gia tri cua ham so f(2.3) = 3.27\n"
          ]
        }
      ],
      "source": [
        "# Khai báo thư viện\n",
        "import math\n",
        "\n",
        "# Nhập dữ liệu\n",
        "x = float(input(\"Moi ban nhap vao gia tri cua bien so x: \"))\n",
        "\n",
        "# Xử lý\n",
        "f_x = x + (x**5) / math.factorial(5) + (math.sqrt(abs(x))) / (x**(3/2))\n",
        "\n",
        "# Xuất dữ liệu\n",
        "print(f\"Gia tri cua ham so f({x}) = {f_x:.2f}\")"
      ]
    },
    {
      "cell_type": "markdown",
      "id": "cd3e3104-f1b5-4bbd-a8d8-bb738db3eb2e",
      "metadata": {
        "id": "cd3e3104-f1b5-4bbd-a8d8-bb738db3eb2e"
      },
      "source": [
        "### Bài 2. Đổi sang giờ phút giây\n",
        "Một thiết bị hoạt động được t giây. Hãy viết chương trình chuyển số giây đó dưới dạng số giờ, số phút và số giây.\n",
        ">Nhap vao tong so giay: **4810** <br/>\n",
        ">**4810** giay co dang **1:20:10**"
      ]
    },
    {
      "cell_type": "code",
      "execution_count": null,
      "id": "05c5b2e9-6824-4a14-9461-4a890a689267",
      "metadata": {
        "id": "05c5b2e9-6824-4a14-9461-4a890a689267",
        "outputId": "36065bcd-fb25-416e-f93b-5cffd090b4d8"
      },
      "outputs": [
        {
          "name": "stdin",
          "output_type": "stream",
          "text": [
            "Nhap vao tong so giay:  4810\n"
          ]
        },
        {
          "name": "stdout",
          "output_type": "stream",
          "text": [
            "4810 giay co dang 1:20:10\n"
          ]
        }
      ],
      "source": [
        "# Nhập dữ liệu\n",
        "t = int(input('Nhap vao tong so giay: '))\n",
        "\n",
        "# Xử lý\n",
        "hh = t // 3600              # số giờ\n",
        "mm = (t % 3600) // 60       # số phút\n",
        "ss = t % 60                 # số giây còn lại\n",
        "\n",
        "# Xuất dữ liệu\n",
        "print(f'{t} giay co dang {hh}:{mm}:{ss}')"
      ]
    },
    {
      "cell_type": "markdown",
      "id": "0054400e-9574-45e7-95fd-8118fc728628",
      "metadata": {
        "id": "0054400e-9574-45e7-95fd-8118fc728628"
      },
      "source": [
        "## 2. Cấu trúc lựa chọn"
      ]
    },
    {
      "cell_type": "markdown",
      "id": "bbf21a61-1f0e-449d-ad2a-dfe434351f0d",
      "metadata": {
        "id": "bbf21a61-1f0e-449d-ad2a-dfe434351f0d"
      },
      "source": [
        "### Bài 3. Giải phuơng trình bậc 1\n",
        "Nhập 2 số thực $a$, $b$. Tìm nghiệm của phương trình bậc 1 $ax + b = 0$.\n",
        ">Moi ban nhap he so a: **1** <br/>\n",
        ">Moi ban nhap he so b: **5** <br/>\n",
        ">Phuong trinh **1x + 5 = 0** co **1** nghiem x = **-5.00**."
      ]
    },
    {
      "cell_type": "code",
      "execution_count": null,
      "id": "f483a7e7-a159-4fc5-b91b-6249e57e1661",
      "metadata": {
        "id": "f483a7e7-a159-4fc5-b91b-6249e57e1661",
        "outputId": "a04057cc-0fbe-4092-e58e-fd084337e726"
      },
      "outputs": [
        {
          "name": "stdin",
          "output_type": "stream",
          "text": [
            "Moi ban nhap he so a:  1\n",
            "Moi ban nhap he so b:  5\n"
          ]
        },
        {
          "name": "stdout",
          "output_type": "stream",
          "text": [
            "Phuong trinh 1x + 5 = 0 co 1 nghiem x = -5.00.\n"
          ]
        }
      ],
      "source": [
        "# Nhập dữ liệu\n",
        "a  = int(input('Moi ban nhap he so a: '))\n",
        "b  = int(input('Moi ban nhap he so b: '))\n",
        "\n",
        "# Xử lý\n",
        "if a == 0:\n",
        "    if b == 0:\n",
        "        flag = -1   # vô số nghiệm\n",
        "    else:\n",
        "        flag = 0    # vô nghiệm\n",
        "else:\n",
        "    flag = 1        # có nghiệm\n",
        "    x = -b / a\n",
        "\n",
        "# Xuất dữ liệu\n",
        "s = f'Phuong trinh {a}x + {b} = 0'\n",
        "if flag == -1:\n",
        "    print(f'{s} vo so nghiem.')\n",
        "elif flag == 0:\n",
        "    print(f'{s} vo nghiem.')\n",
        "else:\n",
        "    print(f'{s} co 1 nghiem x = {x:.2f}.')\n"
      ]
    },
    {
      "cell_type": "markdown",
      "id": "fff9ea45-d248-4d77-98fe-1a8f7ed23fa5",
      "metadata": {
        "id": "fff9ea45-d248-4d77-98fe-1a8f7ed23fa5"
      },
      "source": [
        "### Bài 4. Chuyển ký số sang số\n",
        "Nhập một chuỗi s là chuỗi biểu diễn ký tự số trong tiếng Anh gồm {zero, one, two, three, four, five, six, seven, eight, nine}. Hãy kiểm tra chuỗi nhập có hợp lệ không? Nếu hợp lệ thì in ra ký số của chuỗi đó và chuỗi ký số bên tiếng việt tương ứng.\n",
        "> Moi ban nhap chuoi ky so s: One <br/>\n",
        "> Chuoi vua nhap hop le!\n",
        "> \"One\" bieu dien so cho \"1\" va ung voi tieng Viet \"mot\".\n",
        "\n",
        "> Moi ban nhap chuoi ky so s: hello <br/>\n",
        "> Chuoi vua nhap khong hop le!"
      ]
    },
    {
      "cell_type": "code",
      "execution_count": null,
      "id": "74987004-69b8-4776-ae89-b07827096cfc",
      "metadata": {
        "id": "74987004-69b8-4776-ae89-b07827096cfc",
        "outputId": "98a51b24-b4fe-414b-b66b-c06d6d2e9dd5"
      },
      "outputs": [
        {
          "name": "stdin",
          "output_type": "stream",
          "text": [
            "Moi ban nhap chuoi ky so s:  One\n"
          ]
        },
        {
          "name": "stdout",
          "output_type": "stream",
          "text": [
            "Chuoi vua nhap hop le! \"One\" bieu dien so cho \"1\" va ung voi tieng Viet \"mot\".\n"
          ]
        }
      ],
      "source": [
        "# Bảng ánh xạ\n",
        "en  = [\"zero\", \"one\", \"two\", \"three\", \"four\",\n",
        "       \"five\", \"six\", \"seven\", \"eight\", \"nine\"]\n",
        "vi  = [\"khong\", \"mot\", \"hai\", \"ba\", \"bon\",\n",
        "       \"nam\", \"sau\", \"bay\", \"tam\", \"chin\"]\n",
        "\n",
        "# Nhập dữ liệu\n",
        "s = input(\"Moi ban nhap chuoi ky so s: \").lower()\n",
        "\n",
        "# Xử lý\n",
        "if s in en:\n",
        "    d = en.index(s)   # tìm vị trí trong danh sách en\n",
        "    print(f'Chuoi vua nhap hop le! \"{s.capitalize()}\" bieu dien so cho \"{d}\" va ung voi tieng Viet \"{vi[d]}\".')\n",
        "else:\n",
        "    print(\"Chuoi vua nhap khong hop le!\")\n"
      ]
    },
    {
      "cell_type": "markdown",
      "id": "c3321b89-2d04-43ce-bcc1-d523b8351d2e",
      "metadata": {
        "tags": [],
        "id": "c3321b89-2d04-43ce-bcc1-d523b8351d2e"
      },
      "source": [
        "## 3. Cấu trúc lặp"
      ]
    },
    {
      "cell_type": "markdown",
      "id": "e8b4ab4a-87ba-4471-aa86-47bc40a57fab",
      "metadata": {
        "id": "e8b4ab4a-87ba-4471-aa86-47bc40a57fab"
      },
      "source": [
        "### Bài 5. Tính tổng các số chẵn\n",
        "Nhập một số nguyên n. Hãy tính tổng các số chẵn từ 1 đến n.\n",
        "> Moi ban nhap so nguyen n: **100** <br>\n",
        "> Tong cac so chan tu 1 den **100** la **2550**."
      ]
    },
    {
      "cell_type": "code",
      "execution_count": null,
      "id": "c5e90f77-db53-4c8f-8bbf-363593d6011c",
      "metadata": {
        "id": "c5e90f77-db53-4c8f-8bbf-363593d6011c",
        "outputId": "5bf292c3-b08c-4794-9b05-0a843b4f7371"
      },
      "outputs": [
        {
          "name": "stdin",
          "output_type": "stream",
          "text": [
            "Moi ban nhap so nguyen n:  100\n"
          ]
        },
        {
          "name": "stdout",
          "output_type": "stream",
          "text": [
            "Tong cac so chan tu 1 den 100 la 2550.\n"
          ]
        }
      ],
      "source": [
        "# Nhập dữ liệu\n",
        "n = int(input(\"Moi ban nhap so nguyen n: \"))\n",
        "\n",
        "# Xử lý\n",
        "s = 0\n",
        "for i in range(2, n+1, 2):   # duyệt qua các số chẵn\n",
        "    s += i\n",
        "\n",
        "# Xuất dữ liệu\n",
        "print(f'Tong cac so chan tu 1 den {n} la {s}.')\n"
      ]
    },
    {
      "cell_type": "markdown",
      "id": "a579c446-feac-4c3f-91c3-a73b50b91bb7",
      "metadata": {
        "id": "a579c446-feac-4c3f-91c3-a73b50b91bb7"
      },
      "source": [
        "### Bài 6. Kiểm tra số nguyên tố\n",
        "\n",
        "Nhập vào một số nguyên dương n. Hãy kiểm tra xem n có phải là nguyên tố không?\n",
        "> Moi nhap nhap so nguyen n: **10** <br/>\n",
        "> **10** khong phai la so nguyen to.\n",
        "\n",
        "> Moi nhap nhap so nguyen n: **97** <br/>\n",
        "> **97** la so nguyen to.\n",
        "\n",
        "**Lưu ý**: n là số nguyên tố khi và chỉ khi không tồn tại số nguyên từ $2$ đến $\\sqrt(n)$ mà chia hết cho n."
      ]
    },
    {
      "cell_type": "code",
      "execution_count": null,
      "id": "c6c7d733-8c20-42c8-b49f-7e4feb456eee",
      "metadata": {
        "id": "c6c7d733-8c20-42c8-b49f-7e4feb456eee",
        "outputId": "8762813b-a896-45d6-bd6f-27bb1d7c04bc"
      },
      "outputs": [
        {
          "name": "stdin",
          "output_type": "stream",
          "text": [
            "Moi ban nhap so nguyen n:  97\n"
          ]
        },
        {
          "name": "stdout",
          "output_type": "stream",
          "text": [
            "97 la so nguyen to.\n"
          ]
        }
      ],
      "source": [
        "# Nhập dữ liệu\n",
        "n = int(input(\"Moi ban nhap so nguyen n: \"))\n",
        "\n",
        "# Xử lý\n",
        "if n < 2:\n",
        "    lant = False\n",
        "else:\n",
        "    lant = True\n",
        "    for i in range(2, int(n**0.5) + 1):\n",
        "        if n % i == 0:\n",
        "            lant = False\n",
        "            break\n",
        "\n",
        "# Xuất dữ liệu\n",
        "if lant == True:\n",
        "    print(f'{n} la so nguyen to.')\n",
        "else:\n",
        "    print(f'{n} khong la so nguyen to.')\n"
      ]
    },
    {
      "cell_type": "markdown",
      "id": "51c309ac-19e2-40c2-b9b3-9a9dc20fb265",
      "metadata": {
        "id": "51c309ac-19e2-40c2-b9b3-9a9dc20fb265"
      },
      "source": [
        "## 4. Xử lý ngoại lệ và hàm số"
      ]
    },
    {
      "cell_type": "markdown",
      "id": "cf87e4da-b1a3-4498-a967-e4940ed345d4",
      "metadata": {
        "id": "cf87e4da-b1a3-4498-a967-e4940ed345d4"
      },
      "source": [
        "### Bài 7. Giải phương trình bậc 2\n",
        "Nhập 3 số thực a, b, c (có kiểm tra dữ liệu nhập số thực). Hãy xây dựng hàm giải phương trình bậc 2 $ax^2+bx+c=0$ và in kết quả giải ra màn hình.\n",
        "> Moi ban nhap he so a, b, c:  **a b c**<br/>\n",
        "> Ban nhap sai! Moi ban nhap lai!<br/>\n",
        "> Moi ban nhap he so a, b, c:  **1 a 3**<br/>\n",
        "> Ban nhap sai! Moi ban nhap lai!<br/>\n",
        "> Moi ban nhap he so a, b, c: **1 5 6**<br/>\n",
        "> Phuong trinh bac 2 **1x^2 + 5x + 6 = 0** co **2**  nghiem x1 = **-2.00**, x2 = **-3.00**."
      ]
    },
    {
      "cell_type": "code",
      "execution_count": null,
      "id": "178c51ae-1661-44c0-8394-14852bea0850",
      "metadata": {
        "id": "178c51ae-1661-44c0-8394-14852bea0850"
      },
      "outputs": [],
      "source": [
        "\n",
        "def NhapDuLieu():\n",
        "    while True:\n",
        "        try:\n",
        "            a, b, c = map(float, input(\"Moi ban nhap he so a, b, c: \").split())\n",
        "            return a, b, c\n",
        "        except ValueError:\n",
        "            print(\"Ban nhap sai! Moi ban nhap lai!\")"
      ]
    },
    {
      "cell_type": "code",
      "execution_count": null,
      "id": "e4c313e1-9a3e-431e-8d96-f2a73c032fb9",
      "metadata": {
        "id": "e4c313e1-9a3e-431e-8d96-f2a73c032fb9",
        "outputId": "58dbc131-6a37-4f98-8907-19132b356d78"
      },
      "outputs": [
        {
          "name": "stdin",
          "output_type": "stream",
          "text": [
            "Moi ban nhap he so a, b, c:  a b c\n"
          ]
        },
        {
          "name": "stdout",
          "output_type": "stream",
          "text": [
            "Ban nhap sai! Moi ban nhap lai!\n"
          ]
        },
        {
          "name": "stdin",
          "output_type": "stream",
          "text": [
            "Moi ban nhap he so a, b, c:  1 a 3\n"
          ]
        },
        {
          "name": "stdout",
          "output_type": "stream",
          "text": [
            "Ban nhap sai! Moi ban nhap lai!\n"
          ]
        },
        {
          "name": "stdin",
          "output_type": "stream",
          "text": [
            "Moi ban nhap he so a, b, c:  1 5 6\n"
          ]
        }
      ],
      "source": [
        "# Kiểm tra hàm\n",
        "a, b, c = NhapDuLieu()"
      ]
    },
    {
      "cell_type": "code",
      "execution_count": null,
      "id": "60f44de4-9a60-421f-81e3-53017a17ae34",
      "metadata": {
        "id": "60f44de4-9a60-421f-81e3-53017a17ae34"
      },
      "outputs": [],
      "source": [
        "def GiaiPhuongTrinhBac2(a, b, c):\n",
        "    \"\"\"\n",
        "    Input: a, b, c\n",
        "    Output:\n",
        "    + flag = -1 (VSN), 0 (VN), k (k nghiem)\n",
        "    + () --> flag = -1, 0\n",
        "    + (x,) --> flag = 1\n",
        "    + (x1, x2) --> flag = 2\n",
        "    \"\"\"\n",
        "    import math\n",
        "    flag = None\n",
        "    x = ()\n",
        "\n",
        "    if a == 0:   # phương trình bậc 1 hoặc vô nghiệm/vô số nghiệm\n",
        "        if b == 0:\n",
        "            if c == 0:\n",
        "                flag = -1   # vô số nghiệm\n",
        "                x = ()\n",
        "            else:\n",
        "                flag = 0    # vô nghiệm\n",
        "                x = ()\n",
        "        else:\n",
        "            flag = 1\n",
        "            x = (-c / b,)   # nghiệm duy nhất dạng tuple\n",
        "    else:\n",
        "        delta = b**2 - 4*a*c\n",
        "        if delta < 0:\n",
        "            flag = 0\n",
        "            x = ()\n",
        "        elif delta == 0:\n",
        "            flag = 1\n",
        "            x = (-b / (2*a),)\n",
        "        else:\n",
        "            flag = 2\n",
        "            x1 = (-b + math.sqrt(delta)) / (2*a)\n",
        "            x2 = (-b - math.sqrt(delta)) / (2*a)\n",
        "            x = (x1, x2)\n",
        "\n",
        "    return flag, x"
      ]
    },
    {
      "cell_type": "code",
      "execution_count": null,
      "id": "d04580d7-50f4-486a-ac62-4ebe0ae28671",
      "metadata": {
        "id": "d04580d7-50f4-486a-ac62-4ebe0ae28671",
        "outputId": "2cf67820-58a0-458c-e309-b2f2dd29c6da"
      },
      "outputs": [
        {
          "name": "stdout",
          "output_type": "stream",
          "text": [
            "a = 0\n",
            "So nghiem: -1, nghiem = ()\n",
            "So nghiem: 0, nghiem = ()\n",
            "So nghiem: 1, nghiem = (-1.2,)\n",
            "a <> 0\n",
            "So nghiem: 0, nghiem = ()\n",
            "So nghiem: 1, nghiem = (-1.0,)\n",
            "So nghiem: 2, nghiem = (-2.0, -3.0)\n"
          ]
        }
      ],
      "source": [
        "print(\"a = 0\")\n",
        "flag, x = GiaiPhuongTrinhBac2(0, 0, 0)\n",
        "print(f'So nghiem: {flag}, nghiem = {x}')\n",
        "flag, x = GiaiPhuongTrinhBac2(0, 0, 5)\n",
        "print(f'So nghiem: {flag}, nghiem = {x}')\n",
        "flag, x = GiaiPhuongTrinhBac2(0, 5, 6)\n",
        "print(f'So nghiem: {flag}, nghiem = {x}')\n",
        "\n",
        "print(\"a <> 0\")\n",
        "flag, x = GiaiPhuongTrinhBac2(5, 1, 2)\n",
        "print(f'So nghiem: {flag}, nghiem = {x}')\n",
        "flag, x = GiaiPhuongTrinhBac2(1, 2, 1)\n",
        "print(f'So nghiem: {flag}, nghiem = {x}')\n",
        "flag, x = GiaiPhuongTrinhBac2(1, 5, 6)\n",
        "print(f'So nghiem: {flag}, nghiem = {x}')"
      ]
    },
    {
      "cell_type": "code",
      "execution_count": null,
      "id": "961592b2-be9b-4ad9-a21a-a5c4074c1d71",
      "metadata": {
        "id": "961592b2-be9b-4ad9-a21a-a5c4074c1d71",
        "outputId": "a6ec7d3d-72d5-4712-cda8-e4de7a7583fa"
      },
      "outputs": [
        {
          "name": "stdin",
          "output_type": "stream",
          "text": [
            "Moi ban nhap he so a, b, c:  a b c\n"
          ]
        },
        {
          "name": "stdout",
          "output_type": "stream",
          "text": [
            "Ban nhap sai! Moi ban nhap lai!\n"
          ]
        },
        {
          "name": "stdin",
          "output_type": "stream",
          "text": [
            "Moi ban nhap he so a, b, c:  1 a 3\n"
          ]
        },
        {
          "name": "stdout",
          "output_type": "stream",
          "text": [
            "Ban nhap sai! Moi ban nhap lai!\n"
          ]
        },
        {
          "name": "stdin",
          "output_type": "stream",
          "text": [
            "Moi ban nhap he so a, b, c:  1 5 6\n"
          ]
        },
        {
          "name": "stdout",
          "output_type": "stream",
          "text": [
            "Phuong trinh bac 2 1.0x^2 + 5.0x + 6.0 = 0 co 2 nghiem, x1 = -2.0, x2 = -3.0!\n"
          ]
        }
      ],
      "source": [
        "# Kết nối bài\n",
        "a, b, c = NhapDuLieu()\n",
        "# Gọi hàm giải\n",
        "flag, x = GiaiPhuongTrinhBac2(1, 5, 6)\n",
        "# Xuất dữ liệu\n",
        "s = f'Phuong trinh bac 2 {a}x^2 + {b}x + {c} = 0'\n",
        "if flag == -1:\n",
        "    print(f'{s} co vo so nghiem!')\n",
        "elif flag == 0:\n",
        "    print(f'{s} vo nghiem!')\n",
        "elif flag == 1:\n",
        "    print(f'{s} co 1 nghiem, x = {x[0]}!')\n",
        "elif flag == 2:\n",
        "    print(f'{s} co 2 nghiem, x1 = {x[0]}, x2 = {x[1]}!')\n",
        "# if"
      ]
    },
    {
      "cell_type": "markdown",
      "id": "5c8474da-f8c1-4afe-8174-5f0394020b48",
      "metadata": {
        "id": "5c8474da-f8c1-4afe-8174-5f0394020b48"
      },
      "source": [
        "## 5. Dữ liệu nâng cao (List, Tuple, Set, Dictionary)"
      ]
    },
    {
      "cell_type": "markdown",
      "id": "9ad4029c-15b6-4eaa-9ba2-14f2e7c7bdd5",
      "metadata": {
        "id": "9ad4029c-15b6-4eaa-9ba2-14f2e7c7bdd5"
      },
      "source": [
        "### Bài 8. Các thao tác xử lý mảng số\n",
        "\n",
        "Viết chương trình xây dựng các hàm sau cho List và kiểm tra tính đúng đắn của các hàm số:\n",
        "+ Nhập một mảng số từ bàn phím cách nhau bởi khoảng trắng. Xuất mảng ra màn hình. <br/>\n",
        "+ Sinh một mảng số ngẫu nhiên có n phần tử trong khoảng a, b.\n",
        "+ Tính tổng của mảng số, đếm các phần tử chẵn, lẻ trong mảng.\n",
        "+ Cho một mảng số, hãy trả về dãy chẳn, dãy lẻ.\n",
        "\n",
        "> a = NhapMang() <br/>\n",
        "> XuatMang(a) <br/>\n",
        "> b = SinhNgauNhien(10, -10, 10) <br/>\n",
        "> XuatMang(b) <br/>\n",
        "> tong, chan, le = TinhTongChanLe(b) <br/>\n",
        "> a_chan, a_le = TimChanLe(b) <br/>"
      ]
    },
    {
      "cell_type": "code",
      "execution_count": null,
      "id": "8b681e55-0821-407c-927f-0321406cbbe5",
      "metadata": {
        "id": "8b681e55-0821-407c-927f-0321406cbbe5"
      },
      "outputs": [],
      "source": [
        "def NhapMang():\n",
        "    \"\"\"\n",
        "    Input:\n",
        "        Ban phim = 1 4 1 2 3 4 1 2 3 3 1 2 3 4 10 2\n",
        "    Output:\n",
        "        a = [1, 4, 1, 2, 3, 4, 1, 2, 3, 3, 1, 2, 3, 4, 10, 2]\n",
        "    \"\"\"\n",
        "    while True:\n",
        "        try:\n",
        "            s = input(\"Moi ban nhap mang so nguyen, cach nhau boi dau cach: \")\n",
        "            # Tách chuỗi, ép sang số nguyên\n",
        "            a = list(map(int, s.split()))\n",
        "            break\n",
        "        except ValueError:\n",
        "            print(\"Ban nhap sai! Moi ban nhap lai!\")\n",
        "\n",
        "    return a"
      ]
    },
    {
      "cell_type": "code",
      "execution_count": null,
      "id": "032906b6-ee48-4e4a-8fcd-2851274999b9",
      "metadata": {
        "id": "032906b6-ee48-4e4a-8fcd-2851274999b9",
        "outputId": "f7368834-d813-40f6-96c3-a0533ae8efa3"
      },
      "outputs": [
        {
          "name": "stdin",
          "output_type": "stream",
          "text": [
            "Moi ban nhap mang so nguyen, cach nhau boi dau cach:  1 4 1 2 3 4 1 2 3 3 1 2 3 4 10 2\n"
          ]
        },
        {
          "name": "stdout",
          "output_type": "stream",
          "text": [
            "[1, 4, 1, 2, 3, 4, 1, 2, 3, 3, 1, 2, 3, 4, 10, 2]\n"
          ]
        }
      ],
      "source": [
        "a = NhapMang() # 1 4 1 2 3 4 1 2 3 3 1 2 3 4 10 2\n",
        "print(a)"
      ]
    },
    {
      "cell_type": "code",
      "execution_count": null,
      "id": "724b7098-9d50-4017-bdf2-0a1042a7db6e",
      "metadata": {
        "id": "724b7098-9d50-4017-bdf2-0a1042a7db6e"
      },
      "outputs": [],
      "source": [
        "def XuatMang(a):\n",
        "    \"\"\"\n",
        "    Input:\n",
        "        a = [1, 4, 1, 2, 3, 4, 1, 2, 3, 3, 1, 2, 3, 4, 10, 2]\n",
        "    Output:\n",
        "        In ra man hinh:\n",
        "            Mang co 16 phan tu: 1 4 1 2 3 4 1 2 3 3 1 2 3 4 10 2\n",
        "    \"\"\"\n",
        "    print(f\"Mang co {len(a)} phan tu:\", end=\" \")\n",
        "    for x in a:\n",
        "        print(x, end=\" \")\n",
        "    print()  # xuống dòng sau khi in hết mảng"
      ]
    },
    {
      "cell_type": "code",
      "execution_count": null,
      "id": "95976795-016e-48bd-8647-c56dbb2959eb",
      "metadata": {
        "id": "95976795-016e-48bd-8647-c56dbb2959eb",
        "outputId": "7f5c1693-26c4-40f8-945a-5e2758b77825"
      },
      "outputs": [
        {
          "name": "stdout",
          "output_type": "stream",
          "text": [
            "Mang co 16 phan tu: 1 4 1 2 3 4 1 2 3 3 1 2 3 4 10 2 \n"
          ]
        }
      ],
      "source": [
        "a = [1, 4, 1, 2, 3, 4, 1, 2, 3, 3, 1, 2, 3, 4, 10, 2]\n",
        "XuatMang(a)"
      ]
    },
    {
      "cell_type": "code",
      "execution_count": null,
      "id": "eca868e1-8a32-4dfb-9392-d2092afad458",
      "metadata": {
        "id": "eca868e1-8a32-4dfb-9392-d2092afad458"
      },
      "outputs": [],
      "source": [
        "import random\n",
        "\n",
        "def SinhNgauNhien(n, vmin=-10, vmax=10):\n",
        "    \"\"\"\n",
        "    Input:\n",
        "        n = 30, vmin = -10, vmax = 10\n",
        "    Output:\n",
        "        a = [ngẫu nhiên trong khoảng vmin..vmax]\n",
        "    \"\"\"\n",
        "    a = [random.randint(vmin, vmax) for _ in range(n)]\n",
        "    return a"
      ]
    },
    {
      "cell_type": "code",
      "execution_count": null,
      "id": "462af6b1-99d7-40a1-bf9b-2f351b163924",
      "metadata": {
        "id": "462af6b1-99d7-40a1-bf9b-2f351b163924",
        "outputId": "dc815e60-83e0-4ca7-8e92-2c052f3a6985"
      },
      "outputs": [
        {
          "name": "stdout",
          "output_type": "stream",
          "text": [
            "[0, 3, -4, 5, -3, 2, 6, 0, -1, 6, 3, 4, -2, -10, 2, 9, 2, -4, -4, 4, -2, 1, 1, -9, 9, 5, -8, 8, 3, 9]\n",
            "[10, 3, 2, 8, 6, 4, 9, 0, 8, 9, 3, 0, 1, 4, 8, 6, 7, 10, 2, 5, 5, 4, 6, 10, 0, 4, 3, 6, 2, 3]\n",
            "[-5, 1, -10, -8, -4, -1, -10, 0, -9, -2, 0, -5, -3, -4, 2, 0, -2, -4, -4, 1, -3, -5, -1, -2, -2, -4, -3, -9, -1, -5]\n"
          ]
        }
      ],
      "source": [
        "b = SinhNgauNhien(30, -10, 10)\n",
        "print(b)\n",
        "b = SinhNgauNhien(30, vmin = 0)\n",
        "print(b)\n",
        "b = SinhNgauNhien(30, vmax = 2)\n",
        "print(b)"
      ]
    },
    {
      "cell_type": "code",
      "execution_count": null,
      "id": "77fb712d-c7ad-4d8c-b90e-b85d10acaf81",
      "metadata": {
        "id": "77fb712d-c7ad-4d8c-b90e-b85d10acaf81"
      },
      "outputs": [],
      "source": [
        "def DemTongChanLe(a):\n",
        "    \"\"\"\n",
        "    Input: a[] = [1, 4, 2, 0, -1, -7, 3, -6, 4, 9, -5, 7, 7, -7, -10, 1, -10, 9, -4, -6, 10, -2, -10, -8, -3, 2, -7, -10, 6, 0]\n",
        "    Output: tong, sochan, sole\n",
        "    \"\"\"\n",
        "    tong = 0\n",
        "    sochan = 0\n",
        "    sole = 0\n",
        "\n",
        "    for x in a:\n",
        "        tong += x\n",
        "        if x % 2 == 0:   # số chẵn\n",
        "            sochan += 1\n",
        "        else:            # số lẻ\n",
        "            sole += 1\n",
        "\n",
        "    return tong, sochan, sole"
      ]
    },
    {
      "cell_type": "code",
      "execution_count": null,
      "id": "aab16eb3-8623-4244-a415-08fca8215ca7",
      "metadata": {
        "id": "aab16eb3-8623-4244-a415-08fca8215ca7",
        "outputId": "079921ab-b38f-400e-d143-a5e6c784bd04"
      },
      "outputs": [
        {
          "name": "stdout",
          "output_type": "stream",
          "text": [
            "(-31, 17, 13)\n",
            "(141, 17, 13)\n"
          ]
        }
      ],
      "source": [
        "a = [1, 4, 2, 0, -1, -7, 3, -6, 4, 9, -5, 7, 7, -7, -10, 1, -10, 9, -4, -6, 10, -2, -10, -8, -3, 2, -7, -10, 6, 0]\n",
        "print(DemTongChanLe(a))\n",
        "a = [9, 6, 5, 0, 8, 8, 1, 10, 0, 0, 1, 1, 2, 7, 1, 10, 9, 1, 10, 8, 2, 8, 4, 5, 4, 5, 5, 3, 6, 2]\n",
        "print(DemTongChanLe(a))"
      ]
    },
    {
      "cell_type": "code",
      "execution_count": null,
      "id": "07132bec-d953-4afa-90a7-b5efed34ef24",
      "metadata": {
        "id": "07132bec-d953-4afa-90a7-b5efed34ef24"
      },
      "outputs": [],
      "source": [
        "def DayChanLe(a):  # Giá trị trả về\n",
        "    \"\"\"\n",
        "    Input:\n",
        "        a = [1, 4, 2, 0, -1, -7, 3, -6, 4, 9, -5, 7, 7, -7, -10, 1, -10, 9, -4, -6, 10, -2, -10, -8, -3, 2, -7, -10, 6, 0]\n",
        "    Output: (achan, ale)\n",
        "        achan = [4, 2, 0, -6, 4, -10, -10, -4, -6, 10, -2, -10, -8, 2, -10, 6, 0]\n",
        "        ale   = [1, -1, -7, 3, 9, -5, 7, 7, -7, 1, 9, -3, -7]\n",
        "    \"\"\"\n",
        "    achan = []\n",
        "    ale = []\n",
        "\n",
        "    for x in a:\n",
        "        if x % 2 == 0:   # số chẵn\n",
        "            achan.append(x)\n",
        "        else:            # số lẻ\n",
        "            ale.append(x)\n",
        "\n",
        "    return achan, ale\n"
      ]
    },
    {
      "cell_type": "code",
      "execution_count": null,
      "id": "f3e2f731-ff14-480e-8fd3-7228678528f5",
      "metadata": {
        "id": "f3e2f731-ff14-480e-8fd3-7228678528f5",
        "outputId": "4110e027-5a29-4994-c76d-4e80f63e1f81"
      },
      "outputs": [
        {
          "name": "stdout",
          "output_type": "stream",
          "text": [
            "DayChanLe:\n",
            "Chan = [4, 2, 0, -6, 4, -10, -10, -4, -6, 10, -2, -10, -8, 2, -10, 6, 0]\n",
            "Le = [1, -1, -7, 3, 9, -5, 7, 7, -7, 1, 9, -3, -7]\n",
            "\n"
          ]
        }
      ],
      "source": [
        "a = [1, 4, 2, 0, -1, -7, 3, -6, 4, 9, -5, 7, 7, -7, -10, 1, -10, 9, -4, -6, 10, -2, -10, -8, -3, 2, -7, -10, 6, 0]\n",
        "achan, ale = DayChanLe(a)\n",
        "print(f'DayChanLe:\\nChan = {achan}\\nLe = {ale}\\n')"
      ]
    },
    {
      "cell_type": "markdown",
      "id": "0d73b17c-d3d0-42ec-b183-7168d0ade36c",
      "metadata": {
        "id": "0d73b17c-d3d0-42ec-b183-7168d0ade36c"
      },
      "source": [
        "### Bài 9. Các thao tác trên tập hợp, từ điển\n",
        "\n",
        "Viết chương trình nhập vào một dãy ký tự a cách nhau bởi khoảng trắng. Hãy thực hiện:\n",
        "+ In các ký tự trong a không trùng nhau và được sắp theo thứ tự tăng dần\n",
        "+ Đếm số lần xuất hiện các ký tự trong dãy a"
      ]
    },
    {
      "cell_type": "code",
      "execution_count": null,
      "id": "a3b3eb06-a3e3-44a9-8cee-1800a191eea2",
      "metadata": {
        "id": "a3b3eb06-a3e3-44a9-8cee-1800a191eea2"
      },
      "outputs": [],
      "source": [
        "def XuLyKhongTrung(a):\n",
        "    \"\"\"\n",
        "    Input:\n",
        "        a = ['A', 'G', 'C', 'A', 'C', 'F', 'F', 'T', 'H']\n",
        "    Output:\n",
        "        s = ['A', 'C', 'F', 'G', 'H', 'T']\n",
        "    \"\"\"\n",
        "    s = set(a)  # loại bỏ phần tử trùng\n",
        "    return sorted(s)  # sắp xếp tăng dần"
      ]
    },
    {
      "cell_type": "code",
      "execution_count": null,
      "id": "b28d9ed5-02e0-432f-bb2e-9bbcf607f51f",
      "metadata": {
        "id": "b28d9ed5-02e0-432f-bb2e-9bbcf607f51f",
        "outputId": "9cdb9fa3-50df-4c8a-cb21-4ddf03c3e47c"
      },
      "outputs": [
        {
          "name": "stdout",
          "output_type": "stream",
          "text": [
            "['A', 'C', 'F', 'G', 'H', 'T']\n"
          ]
        }
      ],
      "source": [
        "a = ['A', 'G', 'C', 'A', 'C', 'F', 'F', 'T', 'H']\n",
        "b = XuLyKhongTrung(a)\n",
        "print(b)"
      ]
    },
    {
      "cell_type": "code",
      "execution_count": null,
      "id": "ab1fe744-6ab5-45a5-887f-c2b29eb68885",
      "metadata": {
        "id": "ab1fe744-6ab5-45a5-887f-c2b29eb68885"
      },
      "outputs": [],
      "source": [
        "def DemSoLanXuatHien(a):\n",
        "    \"\"\"\n",
        "    Input:\n",
        "        a = ['A', 'G', 'C', 'A', 'C', 'F', 'F', 'T', 'H']\n",
        "    Output:\n",
        "        dem = {'A': 2, 'G': 1, 'C': 2, 'F': 2, 'T': 1, 'H': 1}\n",
        "    \"\"\"\n",
        "    dem = {}\n",
        "    for x in a:\n",
        "        if x in dem:\n",
        "            dem[x] += 1\n",
        "        else:\n",
        "            dem[x] = 1\n",
        "    return dem"
      ]
    },
    {
      "cell_type": "code",
      "execution_count": null,
      "id": "3e1b9b65-3f70-484d-ae83-f09ee61c5f3c",
      "metadata": {
        "id": "3e1b9b65-3f70-484d-ae83-f09ee61c5f3c",
        "outputId": "6a36409e-7558-4a79-b405-cdc984ae9e23"
      },
      "outputs": [
        {
          "name": "stdout",
          "output_type": "stream",
          "text": [
            "{'A': 2, 'G': 1, 'C': 2, 'F': 2, 'T': 1, 'H': 1}\n"
          ]
        }
      ],
      "source": [
        "a = ['A', 'G', 'C', 'A', 'C', 'F', 'F', 'T', 'H']\n",
        "b = DemSoLanXuatHien(a)\n",
        "print(b)"
      ]
    },
    {
      "cell_type": "markdown",
      "id": "13839d41-79f1-4efe-9ae3-0815988ada1b",
      "metadata": {
        "id": "13839d41-79f1-4efe-9ae3-0815988ada1b"
      },
      "source": [
        "# Kết thúc"
      ]
    }
  ],
  "metadata": {
    "kernelspec": {
      "display_name": "Python 3 (ipykernel)",
      "language": "python",
      "name": "python3"
    },
    "language_info": {
      "codemirror_mode": {
        "name": "ipython",
        "version": 3
      },
      "file_extension": ".py",
      "mimetype": "text/x-python",
      "name": "python",
      "nbconvert_exporter": "python",
      "pygments_lexer": "ipython3",
      "version": "3.13.5"
    },
    "colab": {
      "provenance": [],
      "include_colab_link": true
    }
  },
  "nbformat": 4,
  "nbformat_minor": 5
}