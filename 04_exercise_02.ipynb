{
  "cells": [
    {
      "cell_type": "markdown",
      "metadata": {
        "id": "view-in-github",
        "colab_type": "text"
      },
      "source": [
        "<a href=\"https://colab.research.google.com/github/NAizdabezt/sgu_data_analysit/blob/main/04_exercise_02.ipynb\" target=\"_parent\"><img src=\"https://colab.research.google.com/assets/colab-badge.svg\" alt=\"Open In Colab\"/></a>"
      ]
    },
    {
      "cell_type": "markdown",
      "id": "64cee6fc-d06f-4cdf-8810-93265524dac1",
      "metadata": {
        "id": "64cee6fc-d06f-4cdf-8810-93265524dac1"
      },
      "source": [
        "# Kỹ thuật lập trình Python"
      ]
    },
    {
      "cell_type": "markdown",
      "id": "908de097-84fa-4630-8685-cd7b1220f80c",
      "metadata": {
        "tags": [],
        "id": "908de097-84fa-4630-8685-cd7b1220f80c"
      },
      "source": [
        "## Làm quen với Numpy"
      ]
    },
    {
      "cell_type": "markdown",
      "id": "2fd032f8-43b5-4ba0-9f5e-efc87a539cd0",
      "metadata": {
        "id": "2fd032f8-43b5-4ba0-9f5e-efc87a539cd0"
      },
      "source": [
        "### Bài 1. Tính toán trên dãy số"
      ]
    },
    {
      "cell_type": "markdown",
      "id": "e2bb726d-663d-4dd6-a5e2-7acef695b264",
      "metadata": {
        "id": "e2bb726d-663d-4dd6-a5e2-7acef695b264"
      },
      "source": [
        "#### 1. Tạo một dãy số a có N phần tử (N = 10)"
      ]
    },
    {
      "cell_type": "code",
      "execution_count": null,
      "id": "ee21d6dd-5d2e-4f9b-80ec-b1dd9e991acd",
      "metadata": {
        "id": "ee21d6dd-5d2e-4f9b-80ec-b1dd9e991acd",
        "outputId": "d9a42e6c-26ce-4376-bb7b-84ebc848757f"
      },
      "outputs": [
        {
          "name": "stdout",
          "output_type": "stream",
          "text": [
            "1. Tạo một dãy số a có N phần tử (N = 10)\n",
            "Day so a:  [ 1  2  3  4  5  6  7  8  9 10]\n"
          ]
        }
      ],
      "source": [
        "import numpy as np # Khai báo thư viện numpy\n",
        "\n",
        "print(\"1. Tạo một dãy số a có N phần tử (N = 10)\")\n",
        "N = 10\n",
        "a = np.arange(1, N + 1)   # tạo dãy từ 1 đến 10\n",
        "\n",
        "print(\"Day so a: \", a)"
      ]
    },
    {
      "cell_type": "markdown",
      "id": "861d3b9b-a141-40e5-8b4c-211c14ae4475",
      "metadata": {
        "id": "861d3b9b-a141-40e5-8b4c-211c14ae4475"
      },
      "source": [
        "#### 2. Các thao tác trên dãy số a\n",
        "(a) Bình phương các phần tử trong dãy số <br/>\n",
        "(b) Tìm số lượng các phần tử của dãy số <br/>\n",
        "(c) In ra giá trị lớn nhất, giá trị nhỏ nhất và giá trị trung bình <br/>\n",
        "(d) Tính phương sai của dãy số $\\sigma^2 = \\frac{\\sum{\\left(a_i - \\mu\\right)^2}}{N - 1}$ với $\\mu = \\frac{\\sum{a_i}}{N}$ và độ lệch chuẩn $var = \\sqrt{\\sigma^2}$"
      ]
    },
    {
      "cell_type": "code",
      "execution_count": null,
      "id": "01622aa0-3d8a-44de-a821-cb90ef56a307",
      "metadata": {
        "id": "01622aa0-3d8a-44de-a821-cb90ef56a307",
        "outputId": "24c89ab1-390f-470a-c5bf-645dc0750d22"
      },
      "outputs": [
        {
          "name": "stdout",
          "output_type": "stream",
          "text": [
            "2. Các thao tác tính toán đơn giản với dãy số a\n",
            "a. Binh phuong a:  [  1   4   9  16  25  36  49  64  81 100]\n",
            "\n",
            "b. Do dai a:  10\n",
            "\n",
            "c. Gia tri lon nhat: [10], gia tri nho nhat: [1], gia tri trung binh [5.50]\n",
            "\n",
            "d. Phuong sai: [8.25] va do lech chuan: [2.87]\n"
          ]
        }
      ],
      "source": [
        "import numpy as np\n",
        "\n",
        "print(\"2. Các thao tác tính toán đơn giản với dãy số a\")\n",
        "\n",
        "# Giả sử a đã có từ trước\n",
        "N = 10\n",
        "a = np.arange(1, N + 1)\n",
        "\n",
        "# a. Bình phương\n",
        "a2 = a ** 2\n",
        "print(\"a. Binh phuong a: \", a2)\n",
        "\n",
        "# b. Độ dài\n",
        "na = len(a)\n",
        "print(\"\\nb. Do dai a: \", na)\n",
        "\n",
        "# c. Max, Min, Trung bình\n",
        "v_max = np.max(a)\n",
        "v_min = np.min(a)\n",
        "v_avg = np.mean(a)\n",
        "print(f'\\nc. Gia tri lon nhat: [{v_max}], gia tri nho nhat: [{v_min}], gia tri trung binh [{v_avg:.2f}]')\n",
        "\n",
        "# d. Phương sai và độ lệch chuẩn\n",
        "v_sigma2 = np.var(a)      # phương sai\n",
        "v_var = np.std(a)         # độ lệch chuẩn\n",
        "print(f'\\nd. Phuong sai: [{v_sigma2:.2f}] va do lech chuan: [{v_var:.2f}]')"
      ]
    },
    {
      "cell_type": "markdown",
      "id": "22d5d904-11ea-44d5-9679-3190ba682df4",
      "metadata": {
        "id": "22d5d904-11ea-44d5-9679-3190ba682df4"
      },
      "source": [
        "#### 3. Toán tử trên hai dãy số\n",
        "(a) Tạo dãy số x có 10 phần tử từ 1 đến 10 (dùng hàm np.arange) <br/>\n",
        "(b) Liệt kê và đếm số lượng phần tử chẵn và lẻ có trong dãy a và x <br/>\n",
        "(c) Tính khoảng cách giữa các phần tử ở vị trí lẻ của mảng a và x với $s = \\sqrt{\\sum{\\left(a_i - x_i\\right)^2}}$ với $i$ lẻ<br/>\n",
        "(d) Tìm khoảng cách nhỏ nhất giữa tập a và x. Ví dụ: min({1, 3, 5}, {2, 10, 8}} = 1"
      ]
    },
    {
      "cell_type": "code",
      "execution_count": null,
      "id": "ef21feee-b6d9-494e-bfbd-df7f0dca43d4",
      "metadata": {
        "id": "ef21feee-b6d9-494e-bfbd-df7f0dca43d4",
        "outputId": "9e1deabb-d3cd-4fc1-ce65-9e5a222efb5a"
      },
      "outputs": [
        {
          "name": "stdout",
          "output_type": "stream",
          "text": [
            "3. Xử lý khác trên dãy số\n",
            "a. Day so x: [ 1  2  3  4  5  6  7  8  9 10]\n"
          ]
        }
      ],
      "source": [
        "print(\"3. Xử lý khác trên dãy số\")\n",
        "x = np.arange(1, 11)\n",
        "print(\"a. Day so x:\", x)"
      ]
    },
    {
      "cell_type": "code",
      "execution_count": null,
      "id": "327320d6-cdc5-42d6-9040-83f514d9b0a0",
      "metadata": {
        "id": "327320d6-cdc5-42d6-9040-83f514d9b0a0",
        "outputId": "591b7291-2d00-4209-aad1-bcc9531d230a"
      },
      "outputs": [
        {
          "name": "stdout",
          "output_type": "stream",
          "text": [
            "b. Cac phan tu chan trong day a, b: \n",
            "+ Day a: [ 1  2  3  4  5  6  7  8  9 10]\n",
            "  - Loc chan: [False  True False  True False  True False  True False  True]\n",
            "  - Day chua phan tu chan trong a: [ 2  4  6  8 10], so luong 5 phan tu.\n",
            "+ Day x: [ 1  2  3  4  5  6  7  8  9 10]\n",
            "  - Loc chan: [False  True False  True False  True False  True False  True]\n",
            "  - Day chua phan tu chan trong x: [ 2  4  6  8 10], so luong 5 phan tu.\n"
          ]
        }
      ],
      "source": [
        "\"\"\" CÁC BẠN LÀM BÀI Ở ĐÂY \"\"\"\n",
        "# Lọc phần tử chẵn/lẻ của a\n",
        "a_la_chan = a % 2 == 0\n",
        "a_chan = a[a_la_chan]\n",
        "n_a_chan = len(a_chan)\n",
        "\n",
        "# Lọc phần tử chẵn/lẻ của x\n",
        "x_la_chan = x % 2 == 0\n",
        "x_chan = x[x_la_chan]\n",
        "n_x_chan = len(x_chan)\n",
        "\n",
        "print(\"b. Cac phan tu chan trong day a, b: \")\n",
        "print(f\"+ Day a: {a}\")\n",
        "print(f\"  - Loc chan: {a_la_chan}\")\n",
        "print(f\"  - Day chua phan tu chan trong a: {a_chan}, so luong {n_a_chan} phan tu.\")\n",
        "print(f\"+ Day x: {x}\")\n",
        "print(f\"  - Loc chan: {x_la_chan}\")\n",
        "print(f\"  - Day chua phan tu chan trong x: {x_chan}, so luong {n_x_chan} phan tu.\")"
      ]
    },
    {
      "cell_type": "code",
      "execution_count": null,
      "id": "7b93a2c3-e741-438c-9b9e-6da0a5f32e0c",
      "metadata": {
        "id": "7b93a2c3-e741-438c-9b9e-6da0a5f32e0c",
        "outputId": "859339ce-e238-40ed-9eb1-fa7210709ae0"
      },
      "outputs": [
        {
          "name": "stdout",
          "output_type": "stream",
          "text": [
            "c. Tính hiệu các phần tử ở vị trí lẻ của mảng a và x: \n",
            "+ Vi tri le trong a va x: [1 3 5 7 9]\n",
            "+ Day so a: [ 1  2  3  4  5  6  7  8  9 10] va cac so o vi tri le: [ 2  4  6  8 10]\n",
            "+ Day so x: [ 1  2  3  4  5  6  7  8  9 10] va cac so o vi tri le: [ 2  4  6  8 10]\n",
            "+ Hieu cua a va x o vi tri le: [0 0 0 0 0]\n",
            "+ Khoang cach cac phan tu cua a va x o vi tri le:  0.00\n"
          ]
        }
      ],
      "source": [
        "\"\"\" CÁC BẠN LÀM BÀI Ở ĐÂY \"\"\"\n",
        "# Lấy các vị trí lẻ (chỉ số 1, 3, 5,...)\n",
        "v_le = np.arange(1, len(a), 2)\n",
        "\n",
        "# Lấy phần tử ở vị trí lẻ của a và x\n",
        "a_le = a[v_le]\n",
        "x_le = x[v_le]\n",
        "\n",
        "# Hiệu từng phần tử\n",
        "hieu_le = a_le - x_le\n",
        "\n",
        "# Tính khoảng cách\n",
        "kc_le = np.sqrt(np.sum(hieu_le ** 2))\n",
        "\n",
        "print(\"c. Tính hiệu các phần tử ở vị trí lẻ của mảng a và x: \")\n",
        "print(f\"+ Vi tri le trong a va x: {v_le}\")\n",
        "print(f\"+ Day so a: {a} va cac so o vi tri le: {a_le}\")\n",
        "print(f\"+ Day so x: {x} va cac so o vi tri le: {x_le}\")\n",
        "print(f\"+ Hieu cua a va x o vi tri le: {hieu_le}\")\n",
        "print(f\"+ Khoang cach cac phan tu cua a va x o vi tri le: {kc_le: .2f}\")"
      ]
    },
    {
      "cell_type": "code",
      "execution_count": null,
      "id": "6f44e6f0-6c2d-4063-b06e-8ebf8ca59ca5",
      "metadata": {
        "id": "6f44e6f0-6c2d-4063-b06e-8ebf8ca59ca5",
        "outputId": "0b08a435-f67b-4b86-bd44-f0e448809e94"
      },
      "outputs": [
        {
          "name": "stdout",
          "output_type": "stream",
          "text": [
            "d. Tìm khoảng cách nhỏ nhất giữa tập a và x. Ví dụ: min({1, 3, 5}, {2, 10, 8}} = 1\n",
            "+ Day a: [ 1  2  3  4  5  6  7  8  9 10]\n",
            "+ Day x: [ 1  2  3  4  5  6  7  8  9 10]\n",
            "+ Khoang cach nho nhat: 0\n"
          ]
        }
      ],
      "source": [
        "print(\"d. Tìm khoảng cách nhỏ nhất giữa tập a và x. Ví dụ: min({1, 3, 5}, {2, 10, 8}} = 1\")\n",
        "\n",
        "\"\"\" CÁC BẠN LÀM BÀI Ở ĐÂY \"\"\"\n",
        "# Tính ma trận hiệu giữa từng phần tử của a và x\n",
        "kc = a[:, np.newaxis] - x   # broadcasting\n",
        "\n",
        "# Lấy khoảng cách tuyệt đối nhỏ nhất\n",
        "v_min = np.min(np.abs(kc))\n",
        "\n",
        "print(f\"+ Day a: {a}\")\n",
        "print(f\"+ Day x: {x}\")\n",
        "print(f\"+ Khoang cach nho nhat: {v_min}\")"
      ]
    },
    {
      "cell_type": "markdown",
      "id": "f37334ce-554e-42c8-b180-b3e364c80ab7",
      "metadata": {
        "id": "f37334ce-554e-42c8-b180-b3e364c80ab7"
      },
      "source": [
        "#### 4. Sinh ngẫu nhiên dãy số\n",
        "(a) Sinh ngẫu nhiên dãy số có 100 phần tử theo phân bố đều với giá trị trong đoạn [1, 10] và vẽ đồ thị tần số xuất hiện <br/>\n",
        "(b) Sinh ngẫu nhiên N diem (x, y) với y là hàm phân phối chuẩn $N(\\mu = 1, \\sigma^2 = 1.0)$: <br/>\n",
        " $$\n",
        " y = f\\left(x| \\mu, \\sigma\\right) = \\frac{1}{\\sigma\\sqrt{2\\pi}}exp\\left(-\\frac{\\left(x - \\mu\\right)^2}{2\\sigma^2}\\right)\n",
        " $$\n",
        " nơi mà $x \\in [\\mu - 5\\sigma, \\mu + 5\\sigma]$ <br/>\n",
        " (c) Sinh ngẫu nhiên dãy số có 100000 phần tử theo phân bố chuẩn $N(\\mu = 1, \\sigma^2 = 1.0)$ và vẽ đồ thị tần số xuất hiện <br/> <br/>"
      ]
    },
    {
      "cell_type": "code",
      "execution_count": null,
      "id": "82ea9877-d2ef-4c4d-8197-6c0daa321dde",
      "metadata": {
        "id": "82ea9877-d2ef-4c4d-8197-6c0daa321dde",
        "outputId": "f8fafd79-9ac6-492c-dc93-55a416e70061"
      },
      "outputs": [
        {
          "name": "stdout",
          "output_type": "stream",
          "text": [
            "a. Sinh ngẫu nhiên theo phân bố đều\n",
            "+ Gia tri: [ 1  2  3  4  5  6  7  8  9 10]\n",
            "+ So lan xuat hien: [ 9  9  8 12  8 13  9 11 10 11]\n",
            "+ Do thi ham so xuat hien\n"
          ]
        },
        {
          "data": {
            "image/png": "[encoded data removed]",
            "text/plain": [
              "<Figure size 600x600 with 1 Axes>"
            ]
          },
          "metadata": {},
          "output_type": "display_data"
        }
      ],
      "source": [
        "import numpy as np\n",
        "import matplotlib.pyplot as plt  # Khai báo thư viện pyplot trong matplotlib\n",
        "\n",
        "\"\"\" CÁC BẠN LÀM BÀI Ở ĐÂY \"\"\"\n",
        "# Sinh 100 số ngẫu nhiên theo phân bố đều trong đoạn [1, 10]\n",
        "a = np.random.randint(1, 11, size=100)\n",
        "\n",
        "# Đếm tần số xuất hiện\n",
        "value, cnt = np.unique(a, return_counts=True)\n",
        "\n",
        "print(\"a. Sinh ngẫu nhiên theo phân bố đều\")\n",
        "print(f\"+ Gia tri: {value}\")\n",
        "print(f\"+ So lan xuat hien: {cnt}\")\n",
        "print(\"+ Do thi ham so xuat hien\")\n",
        "\n",
        "# Vẽ đồ thị\n",
        "plt.figure(figsize=(6,6))\n",
        "plt.bar(value, cnt)\n",
        "plt.xlim(0, 11)\n",
        "plt.ylim(0, np.max(cnt) + 5)\n",
        "plt.xlabel(\"Giá trị\")\n",
        "plt.ylabel(\"Tần số xuất hiện\")\n",
        "plt.title(\"Phân bố đều 100 phần tử trong [1, 10]\")\n",
        "plt.savefig(\"4a.png\")\n",
        "plt.show()"
      ]
    },
    {
      "cell_type": "code",
      "execution_count": null,
      "id": "190df04a-6262-41c5-8fde-8577c119ed75",
      "metadata": {
        "id": "190df04a-6262-41c5-8fde-8577c119ed75",
        "outputId": "383f20ec-7095-4173-b76d-396073c8e1ad"
      },
      "outputs": [
        {
          "name": "stdout",
          "output_type": "stream",
          "text": [
            "b. Sinh cặp (x, y) với y là hàm phân phối chuẩn\n",
            "+ x: -4.0 <= min [-3.97] <= max [ 5.95] <= 6.0\n",
            "+ Ve ham so y(x)\n"
          ]
        },
        {
          "data": {
            "image/png": "[encoded data removed]",
            "text/plain": [
              "<Figure size 600x600 with 1 Axes>"
            ]
          },
          "metadata": {},
          "output_type": "display_data"
        }
      ],
      "source": [
        "import numpy as np\n",
        "import matplotlib.pyplot as plt\n",
        "\n",
        "\"\"\" CÁC BẠN LÀM BÀI Ở ĐÂY \"\"\"\n",
        "# Tham số phân phối chuẩn\n",
        "mu = 1.0\n",
        "sigma = 1.0\n",
        "\n",
        "# Sinh ngẫu nhiên N điểm (x, y)\n",
        "N = 200\n",
        "x_min, x_max = mu - 5*sigma, mu + 5*sigma\n",
        "x = np.random.rand(N) * (x_max - x_min) + x_min   # random trong đoạn [x_min, x_max]\n",
        "\n",
        "# Hàm phân phối chuẩn\n",
        "y = 1/(sigma * np.sqrt(2*np.pi)) * np.exp(- (x - mu)**2 / (2*sigma**2))\n",
        "\n",
        "print(\"b. Sinh cặp (x, y) với y là hàm phân phối chuẩn\")\n",
        "print(f\"+ x: {x_min} <= min [{np.min(x): .2f}] <= max [{np.max(x): .2f}] <= {x_max}\")\n",
        "print(f\"+ Ve ham so y(x)\")\n",
        "\n",
        "# Vẽ\n",
        "plt.figure(figsize=(6,6))\n",
        "plt.scatter(x, y)\n",
        "plt.title(\"Hàm phân phối chuẩn N(μ=1, σ²=1.0)\")\n",
        "plt.xlabel(\"x\")\n",
        "plt.ylabel(\"y\")\n",
        "plt.savefig(\"4b.png\")\n",
        "plt.show()\n"
      ]
    },
    {
      "cell_type": "code",
      "execution_count": null,
      "id": "608405cf-59a8-478c-8a4a-15247d7da084",
      "metadata": {
        "id": "608405cf-59a8-478c-8a4a-15247d7da084",
        "outputId": "d06fdd07-d59b-466b-d97f-66ffc779d510"
      },
      "outputs": [
        {
          "name": "stdout",
          "output_type": "stream",
          "text": [
            "c. Sinh day so theo phan phoi chuan\n",
            "+ x: len = 100000, min [-3.32], max [ 5.08]\n",
            "+ Mat so xac suat cua day so x\n"
          ]
        },
        {
          "data": {
            "image/png": "[encoded data removed]",
            "text/plain": [
              "<Figure size 600x600 with 1 Axes>"
            ]
          },
          "metadata": {},
          "output_type": "display_data"
        }
      ],
      "source": [
        "import numpy as np\n",
        "import matplotlib.pyplot as plt\n",
        "\n",
        "\"\"\" CÁC BẠN LÀM BÀI Ở ĐÂY \"\"\"\n",
        "# Tham số phân phối chuẩn\n",
        "mu = 1.0\n",
        "sigma = 1.0\n",
        "\n",
        "# Sinh ngẫu nhiên 100000 số theo N(mu, sigma^2)\n",
        "N = 100000\n",
        "x = mu + sigma * np.random.randn(N)\n",
        "\n",
        "# Dùng histogram để tính mật độ xác suất\n",
        "cnt, val = np.histogram(x, bins=300, density=True)\n",
        "\n",
        "print(\"c. Sinh day so theo phan phoi chuan\")\n",
        "print(f\"+ x: len = {len(x)}, min [{np.min(x): .2f}], max [{np.max(x): .2f}]\")\n",
        "print(f\"+ Mat so xac suat cua day so x\")\n",
        "\n",
        "# Vẽ histogram dạng scatter\n",
        "plt.figure(figsize=(6,6))\n",
        "plt.xlim(np.min(val), np.max(val))\n",
        "plt.scatter(val[:-1], cnt)   # val[:-1] vì histogram trả về edges, cần bỏ phần tử cuối\n",
        "plt.title(\"Mật độ xác suất của phân phối chuẩn N(μ=1, σ²=1.0)\")\n",
        "plt.xlabel(\"x\")\n",
        "plt.ylabel(\"Mật độ xác suất\")\n",
        "plt.show()"
      ]
    },
    {
      "cell_type": "markdown",
      "id": "7df9de75-0506-49ed-b6e7-0866a73bd3f1",
      "metadata": {
        "id": "7df9de75-0506-49ed-b6e7-0866a73bd3f1"
      },
      "source": [
        "### Bài 2. Tính toán trên ma trận"
      ]
    },
    {
      "cell_type": "markdown",
      "id": "4c4961eb-407b-4001-8d50-fafed5341e88",
      "metadata": {
        "id": "4c4961eb-407b-4001-8d50-fafed5341e88"
      },
      "source": [
        "#### 1. Tạo ma trận a có M = 6 dòng, N = 4 cột"
      ]
    },
    {
      "cell_type": "code",
      "execution_count": null,
      "id": "9bdbe8e1-e814-449a-8933-6e854034238c",
      "metadata": {
        "id": "9bdbe8e1-e814-449a-8933-6e854034238c",
        "outputId": "743abd64-263a-479d-f91d-c166200923b6"
      },
      "outputs": [
        {
          "name": "stdout",
          "output_type": "stream",
          "text": [
            "Ma trận a: \n",
            " [[117 108 182 154]\n",
            " [199 158 133 137]\n",
            " [177 120 125 137]\n",
            " [178 155 132 169]\n",
            " [136 165 105 109]\n",
            " [167 135 137 143]]\n"
          ]
        }
      ],
      "source": [
        "import numpy as np\n",
        "\n",
        "# a = np.random.randint(100, 200, (6, 4))\n",
        "\"\"\" CÁC BẠN LÀM BÀI Ở ĐÂY \"\"\"\n",
        "a = np.random.randint(100, 200, (6, 4))   # ma trận 6x4, phần tử trong [100, 200)\n",
        "\n",
        "print(\"Ma trận a: \\n\", a)"
      ]
    },
    {
      "cell_type": "markdown",
      "id": "68583665-532f-44e2-8894-d58bea5e2c33",
      "metadata": {
        "id": "68583665-532f-44e2-8894-d58bea5e2c33"
      },
      "source": [
        "### 2. Các thao tác trên ma trận a\n",
        "(a) In ra ma trận chuyển vị <br/>\n",
        "(b) In ra phần tử ở vị trí dòng 2 cột 3 <br/>\n",
        "(c) Trích xuất dòng đầu, dòng cuối, dòng 2 <br/>\n",
        "(d) Trích xuất cột kế cuối, cột đầu <br/>\n",
        "(e) Đảo các giá trị trên từng cột <br/>\n",
        "(f) Tính tổng các dòng, trung bình các cột <br/>"
      ]
    },
    {
      "cell_type": "code",
      "execution_count": null,
      "id": "debb642e-208c-42e6-b14a-39bcae31f04e",
      "metadata": {
        "id": "debb642e-208c-42e6-b14a-39bcae31f04e",
        "outputId": "be44affc-4388-42ee-c216-41c88ded616c"
      },
      "outputs": [
        {
          "name": "stdout",
          "output_type": "stream",
          "text": [
            "Ma trận a:\n",
            " [[153 169 151 142]\n",
            " [170 138 112 154]\n",
            " [197 175 143 100]\n",
            " [108 163 130 189]\n",
            " [187 179 124 127]\n",
            " [147 151 189 184]]\n",
            "a. In ra ma trận chuyển vị: \n",
            "[[153 170 197 108 187 147]\n",
            " [169 138 175 163 179 151]\n",
            " [151 112 143 130 124 189]\n",
            " [142 154 100 189 127 184]]\n",
            "\n",
            "b. In ra phần tử ở vị trí dòng 2 cột 3: 112\n",
            "\n",
            "c. Trích xuất các dòng: \n",
            "   + Dòng đầu : [153 169 151 142]\n",
            "   + Dòng cuối: [147 151 189 184]\n",
            "   + Dòng hai : [170 138 112 154]\n",
            "\n",
            "d. Trích xuất các cột: \n",
            "   + Cột kế cuối: [151 112 143 130 124 189]\n",
            "   + Cột đầu: [153 170 197 108 187 147]\n",
            "\n",
            "e. Đảo các giá trị trên từng cột: \n",
            "[[147 151 189 184]\n",
            " [187 179 124 127]\n",
            " [108 163 130 189]\n",
            " [197 175 143 100]\n",
            " [170 138 112 154]\n",
            " [153 169 151 142]]\n",
            "\n",
            "f. Phép tính theo trục:\n",
            "   + Tổng dòng: [615 574 615 590 617 671]\n",
            "   + Trung bình cột: [160.33333333 162.5        141.5        149.33333333]\n"
          ]
        }
      ],
      "source": [
        "import numpy as np\n",
        "\n",
        "# Tạo ma trận a\n",
        "a = np.random.randint(100, 200, (6, 4))\n",
        "print(\"Ma trận a:\\n\", a)\n",
        "\n",
        "\"\"\" CÁC BẠN LÀM BÀI Ở ĐÂY \"\"\"\n",
        "# a. Ma trận chuyển vị\n",
        "a_t = a.T\n",
        "\n",
        "# b. Phần tử dòng 2 cột 3 (chỉ số bắt đầu từ 0 nên là [1,2])\n",
        "v_23 = a[1, 2]\n",
        "\n",
        "# c. Trích xuất dòng đầu, dòng cuối, dòng 2\n",
        "d_0 = a[0]\n",
        "d_last = a[-1]\n",
        "d_2 = a[1]\n",
        "\n",
        "# d. Trích xuất cột kế cuối, cột đầu\n",
        "c_l1 = a[:, -2]\n",
        "c_0 = a[:, 0]\n",
        "\n",
        "# e. Đảo các giá trị trên từng cột (lật theo trục 0)\n",
        "dao_cot = np.flipud(a)\n",
        "\n",
        "# f. Tổng các dòng, trung bình các cột\n",
        "tong_dong = np.sum(a, axis=1)\n",
        "tb_cot = np.mean(a, axis=0)\n",
        "\n",
        "# Xuất kết quả\n",
        "print(f\"a. In ra ma trận chuyển vị: \\n{a_t}\")\n",
        "print(f\"\\nb. In ra phần tử ở vị trí dòng 2 cột 3: {v_23}\")\n",
        "print(f\"\\nc. Trích xuất các dòng: \")\n",
        "print(f\"   + Dòng đầu : {d_0}\")\n",
        "print(f\"   + Dòng cuối: {d_last}\")\n",
        "print(f\"   + Dòng hai : {d_2}\")\n",
        "print(f\"\\nd. Trích xuất các cột: \")\n",
        "print(f\"   + Cột kế cuối: {c_l1}\")\n",
        "print(f\"   + Cột đầu: {c_0}\")\n",
        "print(f\"\\ne. Đảo các giá trị trên từng cột: \\n{dao_cot}\")\n",
        "print(f\"\\nf. Phép tính theo trục:\")\n",
        "print(f\"   + Tổng dòng: {tong_dong}\")\n",
        "print(f\"   + Trung bình cột: {tb_cot}\")"
      ]
    },
    {
      "cell_type": "markdown",
      "id": "67c4b316-47cf-4019-a49d-00ae21c32559",
      "metadata": {
        "id": "67c4b316-47cf-4019-a49d-00ae21c32559"
      },
      "source": [
        "#### 3. Các toán tử trên hai ma trận\n",
        "(a) Tạo hai ma trận A và B có 4 dòng x 3 cột và X có 3 dòng x 4 cột <br/>\n",
        "(b) Tính tổng, hiệu, tích của từng phần tử trên hai ma trận A và B <br/>\n",
        "(c) Tính phép nhân ma trận Y = A x X"
      ]
    },
    {
      "cell_type": "code",
      "execution_count": null,
      "id": "1b4c9739-edd2-4520-94f9-7c3e17bc858f",
      "metadata": {
        "id": "1b4c9739-edd2-4520-94f9-7c3e17bc858f",
        "outputId": "5dc2f584-8791-423d-8cbd-a212c4e65d72"
      },
      "outputs": [
        {
          "name": "stdout",
          "output_type": "stream",
          "text": [
            "a. Tạo hai ma trận A và B có 4 dòng x 3 cột và X có 3 dòng x 4 cột\n",
            "+ Ma tran A: \n",
            "[[3 2 4]\n",
            " [2 2 9]\n",
            " [4 6 5]\n",
            " [6 9 6]]\n",
            "+ Ma tran B: \n",
            "[[1 2 5]\n",
            " [8 8 2]\n",
            " [5 8 9]\n",
            " [3 4 5]]\n",
            "+ Ma tran X: \n",
            "[[3 4 5 4]\n",
            " [9 8 7 6]\n",
            " [6 1 7 4]]\n",
            "\n",
            "b. Tính tổng, hiệu, tích của từng phần tử trên hai ma trận A và B\n",
            "A + B = \n",
            "[[ 4  4  9]\n",
            " [10 10 11]\n",
            " [ 9 14 14]\n",
            " [ 9 13 11]]\n",
            "A - B = \n",
            "[[ 2  0 -1]\n",
            " [-6 -6  7]\n",
            " [-1 -2 -4]\n",
            " [ 3  5  1]]\n",
            "A . B = \n",
            "[[ 3  4 20]\n",
            " [16 16 18]\n",
            " [20 48 45]\n",
            " [18 36 30]]\n",
            "\n",
            "c. Tính phép nhân ma trận Y = A x X\n",
            "Y = A x X --> shape A (4, 3) x shape X (3, 4) = shape Y (4, 4) \n",
            "[[ 51  32  57  40]\n",
            " [ 78  33  87  56]\n",
            " [ 96  69  97  72]\n",
            " [135 102 135 102]]\n"
          ]
        }
      ],
      "source": [
        "import numpy as np\n",
        "\n",
        "\"\"\" CÁC BẠN LÀM BÀI Ở ĐÂY \"\"\"\n",
        "# a. Tạo ma trận A và B có 4x3, và X có 3x4\n",
        "A = np.random.randint(1, 10, (4, 3))\n",
        "B = np.random.randint(1, 10, (4, 3))\n",
        "X = np.random.randint(1, 10, (3, 4))\n",
        "\n",
        "# b. Tính toán trên A và B (theo từng phần tử)\n",
        "AB_add = A + B\n",
        "AB_sub = A - B\n",
        "AB_mul = A * B   # nhân phần tử\n",
        "\n",
        "# c. Nhân ma trận Y = A x X\n",
        "Y = np.dot(A, X)\n",
        "\n",
        "# Xuất kết quả\n",
        "print(\"a. Tạo hai ma trận A và B có 4 dòng x 3 cột và X có 3 dòng x 4 cột\")\n",
        "print(f\"+ Ma tran A: \\n{A}\")\n",
        "print(f\"+ Ma tran B: \\n{B}\")\n",
        "print(f\"+ Ma tran X: \\n{X}\")\n",
        "\n",
        "print(\"\\nb. Tính tổng, hiệu, tích của từng phần tử trên hai ma trận A và B\")\n",
        "print(f\"A + B = \\n{AB_add}\")\n",
        "print(f\"A - B = \\n{AB_sub}\")\n",
        "print(f\"A . B = \\n{AB_mul}\")\n",
        "\n",
        "print(\"\\nc. Tính phép nhân ma trận Y = A x X\")\n",
        "print(f\"Y = A x X --> shape A {A.shape} x shape X {X.shape} = shape Y {Y.shape} \\n{Y}\")\n"
      ]
    },
    {
      "cell_type": "markdown",
      "id": "5c4f9e9c-f2b3-49a7-98a9-4b79949f0354",
      "metadata": {
        "id": "5c4f9e9c-f2b3-49a7-98a9-4b79949f0354"
      },
      "source": [
        "#### 4. Giải hệ phương trình tuyến tính\n",
        "Giải hệ phương trình tuyến tính sau:\n",
        "$$\n",
        "\\left\\{\\begin{matrix}\n",
        "        4x_1  + 3x_2 - 5x_3 = 2 \\\\\n",
        "        -2x_1 - 4x_2 + 5x_3 = 5 \\\\\n",
        "        8x_1 + 8x_2 = -3 \\\\\n",
        "\\end{matrix}\\right.\n",
        "$$"
      ]
    },
    {
      "cell_type": "code",
      "execution_count": null,
      "id": "f052ef9e-e4ef-4f0e-83c3-2f19647f84f1",
      "metadata": {
        "id": "f052ef9e-e4ef-4f0e-83c3-2f19647f84f1",
        "outputId": "37f64c4c-cd6a-4db2-f026-04fb56a1673d"
      },
      "outputs": [
        {
          "name": "stdout",
          "output_type": "stream",
          "text": [
            "+ Ma tran A: \n",
            "[[ 4.  3. -5.]\n",
            " [-2. -4.  5.]\n",
            " [ 8.  8.  0.]]\n",
            "+ Vector y: [ 2.  5. -3.]\n",
            "+ Nghiem x: [ 2.20833333 -2.58333333 -0.18333333]\n",
            "+ Kiem tra: yy = Ax = [ 2.  5. -3.] ==> ||yy - y||_2 = 0.00\n"
          ]
        }
      ],
      "source": [
        "import numpy as np\n",
        "\n",
        "\"\"\" CÁC BẠN LÀM BÀI Ở ĐÂY \"\"\"\n",
        "# Hệ phương trình:\n",
        "# 4x1 + 3x2 - 5x3 = 2\n",
        "# -2x1 - 4x2 + 5x3 = 5\n",
        "# 8x1 + 8x2       = -3\n",
        "\n",
        "# Ma trận A và vector y\n",
        "A = np.array([\n",
        "    [4,  3, -5],\n",
        "    [-2, -4,  5],\n",
        "    [8,  8,  0]\n",
        "], dtype=float)\n",
        "\n",
        "y = np.array([2, 5, -3], dtype=float)\n",
        "\n",
        "# Giải hệ Ax = y\n",
        "x = np.linalg.solve(A, y)\n",
        "\n",
        "# Kiểm tra nghiệm: yy = A @ x\n",
        "yy = A @ x\n",
        "diff = np.linalg.norm(yy - y, 2)\n",
        "\n",
        "# Xuất kết quả\n",
        "print(f\"+ Ma tran A: \\n{A}\")\n",
        "print(f\"+ Vector y: {y}\")\n",
        "print(f\"+ Nghiem x: {x}\")\n",
        "print(f\"+ Kiem tra: yy = Ax = {yy} ==> ||yy - y||_2 = {diff:.2f}\")"
      ]
    },
    {
      "cell_type": "markdown",
      "id": "796a3aa6-3a4f-49c4-b42b-070cd65f03ee",
      "metadata": {
        "tags": [],
        "id": "796a3aa6-3a4f-49c4-b42b-070cd65f03ee"
      },
      "source": [
        "## Bài tập áp dụng"
      ]
    },
    {
      "cell_type": "markdown",
      "id": "ba00e808-4de6-4780-a406-7629e840de4a",
      "metadata": {
        "id": "ba00e808-4de6-4780-a406-7629e840de4a"
      },
      "source": [
        "### Bài 3. Tính gần đúng số pi dùng phương pháp Monte Carlo\n",
        "\n",
        "Vẽ một đường tròn $C$ có bán kính $r$ nội tiếp một hình vuông $C$, và đặt ngẫu nhiên $N$ chấm lên hình vuông. Tỉ lệ các chấm nằm trong hình tròn trên tổng số chấm xấp xỉ bằng diện tích của hình tròn chia cho hình vuông như sau:\n",
        "$$\n",
        "\\frac{N_C}{N} \\approx  \\frac{\\mathbb{S}_C}{\\mathbb{S}_N}\n",
        "$$\n",
        "nơi mà $N_C$ là các chấm trong hình tròn, $N$ là tổng số chấm, $\\mathbb{S}_C$ và $\\mathbb{S}_N$ lần lượt là diện tích của hình tròn và hình vuông.\n",
        "$$ \\mathbb{S}_C = \\pi * r^2 $$\n",
        "$$ \\mathbb{S}_N = (2*r)^2 = 4r^2 $$\n",
        "Do đó, công thức trên trở thành:\n",
        "$$\n",
        "\\frac{N_C}{N} \\approx \\frac{\\pi * r^2}{4r^2} = \\frac{\\pi}{4}\n",
        "$$\n",
        "Suy ra, ta có giá trị số $\\pi$ được tính như sau:\n",
        "$$\n",
        "\\pi \\approx \\frac{4N_C}{N}\n",
        "$$\n",
        "\n",
        "Các bạn hãy lập trình tính sấp xỉ số $\\pi$ dùng phương pháp Monte Carlo. Cho biết các sai số với $N = 100$, $N = 10000$, và $N = 1000000$. Vẽ đồ thị minh họa cho chương trình.\n",
        "\n",
        "**Hướng dẫn**: Viết chương trình phát sinh $N$ điểm $(x_i, y_i)$ với $x_i, y_i \\in [-1, -1]$. $(x_i, y_i)$ thuộc hình tròn tâm $(0, 0)$ bán kính 1 nội tiếp hình vuông có tâm tại $(0, 0)$ độ dài cạnh 2 khi và chỉ khi $x_i^2 + y_i^2 <= 1$."
      ]
    },
    {
      "cell_type": "code",
      "execution_count": null,
      "id": "d919db9f-c6ed-43f5-9082-f59e46866e62",
      "metadata": {
        "id": "d919db9f-c6ed-43f5-9082-f59e46866e62",
        "outputId": "0bb1affe-60cb-4216-f27e-0a36666049bb"
      },
      "outputs": [
        {
          "data": {
            "image/png": "[encoded data removed]",
            "text/plain": [
              "<Figure size 600x600 with 1 Axes>"
            ]
          },
          "metadata": {},
          "output_type": "display_data"
        }
      ],
      "source": [
        "import matplotlib.pyplot as plt # khai báo thư viện vẽ pyplot\n",
        "import math\n",
        "\n",
        "circle = plt.Circle((0, 0), 1, color='g') # tạo đối tượng vòng tròn\n",
        "\n",
        "fig, ax = plt.subplots(figsize=(6, 6)) # lấy figure và vùng vẽ\n",
        "\n",
        "plt.plot(0, 0, 'o', color=(0.9, 0.9, 1.0), alpha=0.8) # vẽ điểm tại tâm (0,0)\n",
        "ax.add_patch(circle) # thêm vòng tròn vào vùng vẽ\n",
        "\n",
        "x = 0.75; y = math.sqrt(1 - (x ** 2)) # (x = 0.75, y = căn bậc 2 của 1 - x^2)\n",
        "plt.arrow(0, 0, x, y)\n",
        "\n",
        "plt.xlim(-1, 1) # giới hạn trục x\n",
        "plt.ylim(-1, 1) # giới hạn trục y\n",
        "\n",
        "plt.savefig('pi.png') # lưu đồ thị xuống tập tin\n",
        "plt.show()            # hiển thị đồ thị"
      ]
    },
    {
      "cell_type": "code",
      "execution_count": null,
      "id": "d7067721-f669-4986-8f81-26538c754abf",
      "metadata": {
        "id": "d7067721-f669-4986-8f81-26538c754abf"
      },
      "outputs": [],
      "source": [
        "import numpy as np\n",
        "\n",
        "def calc_pi_monte_carlo(n=100):\n",
        "    # Sinh ngẫu nhiên n điểm trong [-1, 1] x [-1, 1]\n",
        "    x = np.random.rand(n) * 2 - 1   # [0,1) -> [-1,1)\n",
        "    y = np.random.rand(n) * 2 - 1\n",
        "\n",
        "    # Đếm số điểm nằm trong đường tròn đơn vị\n",
        "    inside = (x**2 + y**2) <= 1\n",
        "    n_inside = np.sum(inside)\n",
        "\n",
        "    # Ước lượng pi\n",
        "    pi = 4 * n_inside / n\n",
        "    return pi\n",
        "# calc_pi_monte_carlo"
      ]
    },
    {
      "cell_type": "code",
      "execution_count": null,
      "id": "ff2be8ec-abe6-42c7-816e-55f000aca705",
      "metadata": {
        "id": "ff2be8ec-abe6-42c7-816e-55f000aca705",
        "outputId": "1cf83089-35f3-49f6-e776-0e272ace1f74"
      },
      "outputs": [
        {
          "name": "stdout",
          "output_type": "stream",
          "text": [
            "epsilon(n=100):  0.1384073464102067\n",
            "epsilon(n=100):  -0.02159265358979301\n",
            "epsilon(n=10000):  0.016007346410206846\n",
            "epsilon(n=10000):  0.009207346410206707\n",
            "epsilon(n=1000000):  -0.0004966535897930058\n",
            "epsilon(n=1000000):  0.001227346410206831\n"
          ]
        }
      ],
      "source": [
        "import math\n",
        "\n",
        "print(\"epsilon(n=100): \", calc_pi_monte_carlo(n = 100) - math.pi)\n",
        "print(\"epsilon(n=100): \", calc_pi_monte_carlo(n = 100) - math.pi)\n",
        "print(\"epsilon(n=10000): \", calc_pi_monte_carlo(n = 10000) - math.pi)\n",
        "print(\"epsilon(n=10000): \", calc_pi_monte_carlo(n = 10000) - math.pi)\n",
        "print(\"epsilon(n=1000000): \", calc_pi_monte_carlo(n = 1000000) - math.pi)\n",
        "print(\"epsilon(n=1000000): \", calc_pi_monte_carlo(n = 1000000) - math.pi)"
      ]
    }
  ],
  "metadata": {
    "kernelspec": {
      "display_name": "Python 3 (ipykernel)",
      "language": "python",
      "name": "python3"
    },
    "language_info": {
      "codemirror_mode": {
        "name": "ipython",
        "version": 3
      },
      "file_extension": ".py",
      "mimetype": "text/x-python",
      "name": "python",
      "nbconvert_exporter": "python",
      "pygments_lexer": "ipython3",
      "version": "3.13.5"
    },
    "colab": {
      "provenance": [],
      "include_colab_link": true
    }
  },
  "nbformat": 4,
  "nbformat_minor": 5
}